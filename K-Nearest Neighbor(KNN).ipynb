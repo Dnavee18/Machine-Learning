{
 "cells": [
  {
   "cell_type": "markdown",
   "id": "8d2e6b76-1292-4925-b6b1-eb62762f8629",
   "metadata": {},
   "source": [
    "<h2 style='color:red' align=\"center\">K-Nearest Neighbor(KNN) Algorithm for Machine Learning</h2>"
   ]
  },
  {
   "cell_type": "markdown",
   "id": "c5fd4954-329e-4440-8544-4c10c5a5ea18",
   "metadata": {},
   "source": [
    "* K-Nearest Neighbour is ``one of the simplest Machine Learning algorithms based on Supervised Learning technique``.\n",
    "* K-NN algorithm ``assumes the similarity between the new case/data and available cases and put the new case into the category that is most similar to the available categories``.\n",
    "* K-NN algorithm ``stores all the available data and classifies a new data point based on the similarity``. This ``means when new data appears then it can be easily classified into a well suite category by using K- NN algorithm``.\n",
    "* K-NN algorithm can be ``used for Regression as well as for Classification`` ``but mostly it is used for the Classification problems.``\n",
    "* K-NN is a ``non-parametric algorithm``, which means it ``does not make any assumption on underlying data``.\n",
    "* It is also called a **lazy learner algorithm** because it ``does not learn from the training set immediately instead it stores the dataset and at the time of classification, it performs an action on the dataset.``\n",
    "* KNN algorithm at the ``training phase just stores the dataset and when it gets new data``, then it ``classifies that data into a category that is much similar to the new data.``"
   ]
  },
  {
   "cell_type": "markdown",
   "id": "1cffd318-ff5e-4069-8e70-536e350c71f5",
   "metadata": {},
   "source": [
    "## Example: \n",
    "* Suppose, we have an image of a creature that looks similar to cat and dog, but we want to know either it is a cat or dog.\n",
    "*  So for this identification, we can use the KNN algorithm, as it works on a similarity measure.\n",
    "*  Our KNN model will find the similar features of the new data set to the cats and dogs images and based on the most similar features it will put it in either cat or dog category."
   ]
  },
  {
   "cell_type": "code",
   "execution_count": 1,
   "id": "163ff8fa",
   "metadata": {},
   "outputs": [],
   "source": [
    "from IPython.display import Image"
   ]
  },
  {
   "cell_type": "code",
   "execution_count": 2,
   "id": "424509ed",
   "metadata": {},
   "outputs": [
    {
     "data": {
      "text/html": [
       "<img src=\"https://static.javatpoint.com/tutorial/machine-learning/images/k-nearest-neighbor-algorithm-for-machine-learning.png\"/>"
      ],
      "text/plain": [
       "<IPython.core.display.Image object>"
      ]
     },
     "execution_count": 2,
     "metadata": {},
     "output_type": "execute_result"
    }
   ],
   "source": [
    "Image ( url =('https://static.javatpoint.com/tutorial/machine-learning/images/k-nearest-neighbor-algorithm-for-machine-learning.png'))"
   ]
  },
  {
   "cell_type": "markdown",
   "id": "7381a797-d5ef-408c-bd59-8e43d68829d8",
   "metadata": {},
   "source": [
    "## Why do we need a K-NN Algorithm?\n",
    "* Suppose there are two categories, i.e., Category A and Category B, and we have a new data point x1, so this data point will lie in which of these categories.\n",
    "* To solve this type of problem, we need a K-NN algorithm.\n",
    "*  With the help of K-NN, we can easily identify the category or class of a particular dataset. Consider the below diagram:"
   ]
  },
  {
   "cell_type": "code",
   "execution_count": 3,
   "id": "74e3a2d3",
   "metadata": {},
   "outputs": [
    {
     "data": {
      "text/html": [
       "<img src=\"https://static.javatpoint.com/tutorial/machine-learning/images/k-nearest-neighbor-algorithm-for-machine-learning2.png\"/>"
      ],
      "text/plain": [
       "<IPython.core.display.Image object>"
      ]
     },
     "execution_count": 3,
     "metadata": {},
     "output_type": "execute_result"
    }
   ],
   "source": [
    "Image(url=('https://static.javatpoint.com/tutorial/machine-learning/images/k-nearest-neighbor-algorithm-for-machine-learning2.png'))"
   ]
  },
  {
   "cell_type": "markdown",
   "id": "ccce033d-0bbf-4536-a297-827402e1ac8e",
   "metadata": {},
   "source": [
    "## How does K-NN work?\n",
    "\n",
    "The K-NN working can be explained on the basis of the below algorithm:\n",
    "\n",
    "* Step-1: ``Select the number K of the neighbors``\n",
    "* Step-2: Calculate the ``Euclidean distance of K number of neighbors``\n",
    "* Step-3: Take the`` K nearest neighbors as per the calculated Euclidean distance``\n",
    "* Step-4: Among these ``k neighbors, count the number of the data points in each category.``\n",
    "* Step-5: Assign the ``new data points to that category for which the number of the neighbor is maximum.``\n",
    "* Step-6:``Our model is ready.``"
   ]
  },
  {
   "cell_type": "code",
   "execution_count": 4,
   "id": "3d688b3b",
   "metadata": {},
   "outputs": [
    {
     "data": {
      "text/html": [
       "<img src=\"https://static.javatpoint.com/tutorial/machine-learning/images/k-nearest-neighbor-algorithm-for-machine-learning3.png\"/>"
      ],
      "text/plain": [
       "<IPython.core.display.Image object>"
      ]
     },
     "execution_count": 4,
     "metadata": {},
     "output_type": "execute_result"
    }
   ],
   "source": [
    "Image(url=('https://static.javatpoint.com/tutorial/machine-learning/images/k-nearest-neighbor-algorithm-for-machine-learning3.png'))"
   ]
  },
  {
   "cell_type": "markdown",
   "id": "3f1f6310-527f-4e55-a48b-a6635899d79a",
   "metadata": {},
   "source": [
    "* Firstly, we ``will choose the number of neighbors, so we will choose the k=5``.\n",
    "* Next, we ``will calculate the Euclidean distance between the data points``.\n",
    "* The Euclidean distance is the distance between ``two points, which we have already studied in geometry``. It can be calculated as:"
   ]
  },
  {
   "cell_type": "code",
   "execution_count": 5,
   "id": "10fa3e41",
   "metadata": {},
   "outputs": [
    {
     "data": {
      "text/html": [
       "<img src=\"https://static.javatpoint.com/tutorial/machine-learning/images/k-nearest-neighbor-algorithm-for-machine-learning4.png\"/>"
      ],
      "text/plain": [
       "<IPython.core.display.Image object>"
      ]
     },
     "execution_count": 5,
     "metadata": {},
     "output_type": "execute_result"
    }
   ],
   "source": [
    "Image(url=('https://static.javatpoint.com/tutorial/machine-learning/images/k-nearest-neighbor-algorithm-for-machine-learning4.png'))"
   ]
  },
  {
   "cell_type": "markdown",
   "id": "fb4e90ae-9eff-4abc-b8cf-361c7f3b8afe",
   "metadata": {},
   "source": [
    "* By calculating the `Euclidean distance we got the nearest neighbors`, as three ``nearest neighbors in category A and two nearest neighbors in category B``. Consider the below image"
   ]
  },
  {
   "cell_type": "code",
   "execution_count": 6,
   "id": "d6746fed",
   "metadata": {},
   "outputs": [
    {
     "data": {
      "text/html": [
       "<img src=\"https://static.javatpoint.com/tutorial/machine-learning/images/k-nearest-neighbor-algorithm-for-machine-learning5.png\"/>"
      ],
      "text/plain": [
       "<IPython.core.display.Image object>"
      ]
     },
     "execution_count": 6,
     "metadata": {},
     "output_type": "execute_result"
    }
   ],
   "source": [
    "Image(url=('https://static.javatpoint.com/tutorial/machine-learning/images/k-nearest-neighbor-algorithm-for-machine-learning5.png'))"
   ]
  },
  {
   "cell_type": "markdown",
   "id": "d7092fe8",
   "metadata": {},
   "source": [
    "As we can see the 3 nearest neighbors are from category A, hence this new data point must belong to category A."
   ]
  },
  {
   "cell_type": "markdown",
   "id": "e3f77807-98b1-440d-8d15-5fbbd777d293",
   "metadata": {},
   "source": [
    "## How to select the value of K in the K-NN Algorithm?"
   ]
  },
  {
   "cell_type": "markdown",
   "id": "a2cbfc7c-5958-4245-91b7-e88c360bbac7",
   "metadata": {},
   "source": [
    "### Below are some points to remember while selecting the value of K in the K-NN algorithm:\n",
    "\n",
    "* There is `no particular way to determine the best value for \"K\"`, so we need to `try some values to find the best out of them``. ``The most preferred value for K is 5.``\n",
    "* `A very low value for K such as K=1 or K=2`, ``can be noisy and lead to the effects of outliers in the model``.\n",
    "* ``Large values for K are good``, but it ``may find some difficulties.``"
   ]
  },
  {
   "cell_type": "markdown",
   "id": "5865ccc7-dd75-4b16-8485-99fd369b67dd",
   "metadata": {},
   "source": [
    "# Python implementation of the KNN algorithm"
   ]
  },
  {
   "cell_type": "markdown",
   "id": "3592b900-4956-447f-90df-8bc473bc3dc6",
   "metadata": {},
   "source": [
    "## Steps to implement the K-NN algorithm:\n",
    "\n",
    "* Data Pre-processing step\n",
    "* Fitting the K-NN algorithm to the Training set\n",
    "* Predicting the test result\n",
    "* Test accuracy of the result(Creation of Confusion matrix)"
   ]
  },
  {
   "cell_type": "markdown",
   "id": "de44e965-f2b0-4eb7-8493-7b38016f1447",
   "metadata": {},
   "source": [
    "## import libraries"
   ]
  },
  {
   "cell_type": "code",
   "execution_count": 2,
   "id": "9a320a58-b70e-4561-a6c9-5330c77b09f3",
   "metadata": {},
   "outputs": [],
   "source": [
    "from sklearn.datasets import load_iris\n",
    "from sklearn.model_selection import train_test_split\n",
    "from sklearn.preprocessing import StandardScaler\n",
    "from sklearn.neighbors import KNeighborsClassifier\n",
    "from sklearn.metrics import accuracy_score"
   ]
  },
  {
   "cell_type": "markdown",
   "id": "c9410f28-3a1c-49e8-9d2c-20a1e2228b41",
   "metadata": {},
   "source": [
    "## Load the Iris dataset"
   ]
  },
  {
   "cell_type": "code",
   "execution_count": 3,
   "id": "5c9fc65a-9ff7-4a4f-8b14-c18ce61bd3a0",
   "metadata": {},
   "outputs": [],
   "source": [
    "iris = load_iris()"
   ]
  },
  {
   "cell_type": "markdown",
   "id": "ef6ad6ff-1766-43e3-b411-2beeb19f6a3c",
   "metadata": {},
   "source": [
    "## Split the data into training and test sets"
   ]
  },
  {
   "cell_type": "code",
   "execution_count": 4,
   "id": "bc2ec8b8-6214-49fd-a4f0-7be5093bc442",
   "metadata": {},
   "outputs": [],
   "source": [
    "X_train, X_test, y_train, y_test = train_test_split(iris.data,\n",
    "iris.target, test_size=0.35, random_state=42)\n"
   ]
  },
  {
   "cell_type": "markdown",
   "id": "b6c3e2a5-ebba-4889-b61b-207764d60004",
   "metadata": {},
   "source": [
    "## Normalize the data"
   ]
  },
  {
   "cell_type": "code",
   "execution_count": 5,
   "id": "536da5f0-a587-4f6b-a8db-ad5892c8e911",
   "metadata": {},
   "outputs": [],
   "source": [
    "scaler = StandardScaler()\n",
    "X_train = scaler.fit_transform(X_train)\n",
    "X_test = scaler.transform(X_test)"
   ]
  },
  {
   "cell_type": "markdown",
   "id": "3ce92d73-c85d-4501-a29f-b0bdff3bdcda",
   "metadata": {},
   "source": [
    "## Initialize the KNN algorithm\n"
   ]
  },
  {
   "cell_type": "code",
   "execution_count": 7,
   "id": "c7b1d4cb-a796-4780-8a36-a62295f8832c",
   "metadata": {},
   "outputs": [
    {
     "data": {
      "text/plain": [
       "KNeighborsClassifier()"
      ]
     },
     "execution_count": 7,
     "metadata": {},
     "output_type": "execute_result"
    }
   ],
   "source": [
    "knn = KNeighborsClassifier(n_neighbors=5)\n",
    "knn"
   ]
  },
  {
   "cell_type": "markdown",
   "id": "63fe4a40-ed87-40b4-8096-87afdf6c0f50",
   "metadata": {},
   "source": [
    "## Train the KNN algorithm\n"
   ]
  },
  {
   "cell_type": "code",
   "execution_count": 12,
   "id": "77846712-2103-4d71-a03d-f8d0b119e671",
   "metadata": {},
   "outputs": [
    {
     "data": {
      "text/plain": [
       "KNeighborsClassifier()"
      ]
     },
     "execution_count": 12,
     "metadata": {},
     "output_type": "execute_result"
    }
   ],
   "source": [
    "knn.fit(X_train, y_train)"
   ]
  },
  {
   "cell_type": "markdown",
   "id": "ae186374-7d0f-4bc0-bbe7-fbfa33c3e16b",
   "metadata": {},
   "source": [
    "## Make predictions on the test set"
   ]
  },
  {
   "cell_type": "code",
   "execution_count": 13,
   "id": "77c8720b-320a-4d2f-9115-0a8b6c9cee17",
   "metadata": {},
   "outputs": [
    {
     "data": {
      "text/plain": [
       "array([1, 0, 2, 1, 1, 0, 1, 2, 1, 1, 2, 0, 0, 0, 0, 1, 2, 1, 1, 2, 0, 2,\n",
       "       0, 2, 2, 2, 2, 2, 0, 0, 0, 0, 1, 0, 0, 2, 1, 0, 0, 0, 2, 1, 1, 0,\n",
       "       0, 1, 1, 2, 1, 2, 1, 2, 1])"
      ]
     },
     "execution_count": 13,
     "metadata": {},
     "output_type": "execute_result"
    }
   ],
   "source": [
    "y_pred = knn.predict(X_test)\n",
    "y_pred"
   ]
  },
  {
   "cell_type": "markdown",
   "id": "f074179d-5613-4606-a089-131768feaff5",
   "metadata": {},
   "source": [
    "## Evaluate the performance of the KNN algorithm"
   ]
  },
  {
   "cell_type": "code",
   "execution_count": 14,
   "id": "c419e047-ca4b-4945-98b1-77d88365d389",
   "metadata": {},
   "outputs": [
    {
     "name": "stdout",
     "output_type": "stream",
     "text": [
      "Accuracy: 98.11%\n"
     ]
    }
   ],
   "source": [
    "accuracy = accuracy_score(y_test, y_pred)\n",
    "print(\"Accuracy: {:.2f}%\".format(accuracy*100))"
   ]
  },
  {
   "cell_type": "markdown",
   "id": "3032bde3-d926-4737-986f-1113d5c9483e",
   "metadata": {},
   "source": [
    "## Using Cross Validation to Get the Best Value of k"
   ]
  },
  {
   "cell_type": "code",
   "execution_count": 8,
   "id": "dbc209f2-2b41-4b4d-8776-948f3bec8669",
   "metadata": {},
   "outputs": [],
   "source": [
    "from sklearn.model_selection import cross_val_score\n",
    "import numpy as np\n",
    "import seaborn as sns\n",
    "import matplotlib.pyplot as plt"
   ]
  },
  {
   "cell_type": "code",
   "execution_count": 9,
   "id": "db998900-f4d2-45c9-90d5-473f413d47e0",
   "metadata": {},
   "outputs": [],
   "source": [
    "X=iris.data\n",
    "y=iris.target"
   ]
  },
  {
   "cell_type": "code",
   "execution_count": 22,
   "id": "52ca563f-bd89-427c-96c7-c50edac148d9",
   "metadata": {},
   "outputs": [
    {
     "name": "stdout",
     "output_type": "stream",
     "text": [
      "[1, 2, 3, 4, 5, 6, 7, 8, 9, 10, 11, 12, 13, 14, 15, 16, 17, 18, 19, 20, 21, 22, 23, 24, 25, 26, 27, 28, 29, 30]\n",
      "[0.9466666666666665, 0.9466666666666667, 0.9533333333333334, 0.9533333333333334, 0.96, 0.9666666666666668, 0.9533333333333334, 0.9666666666666668, 0.96, 0.96, 0.9466666666666665, 0.9466666666666665, 0.9466666666666667, 0.9400000000000001, 0.9466666666666667, 0.9333333333333333, 0.9266666666666667, 0.9400000000000001, 0.9533333333333334, 0.9466666666666667, 0.9466666666666667, 0.9399999999999998, 0.9333333333333332, 0.9333333333333332, 0.9399999999999998, 0.9333333333333332, 0.9399999999999998, 0.9266666666666665, 0.9266666666666665, 0.9199999999999999]\n"
     ]
    }
   ],
   "source": [
    "k_values = [i for i in range (1,31)]\n",
    "print(k_values)\n",
    "scores = []\n",
    "\n",
    "scaler = StandardScaler()\n",
    "X = scaler.fit_transform(X)\n",
    "\n",
    "for k in k_values:\n",
    "    knn = KNeighborsClassifier(n_neighbors=k)\n",
    "    score = cross_val_score(knn, X, y, cv=5)\n",
    "    scores.append(np.mean(score))\n",
    "print(scores)"
   ]
  },
  {
   "cell_type": "code",
   "execution_count": 24,
   "id": "b6ffe148-3dd4-472d-85c6-6ec97366b318",
   "metadata": {},
   "outputs": [
    {
     "data": {
      "text/plain": [
       "Text(0, 0.5, 'Accuracy Score')"
      ]
     },
     "execution_count": 24,
     "metadata": {},
     "output_type": "execute_result"
    },
    {
     "data": {
      "image/png": "[encoded data removed]",
      "text/plain": [
       "<Figure size 432x288 with 1 Axes>"
      ]
     },
     "metadata": {
      "needs_background": "light"
     },
     "output_type": "display_data"
    }
   ],
   "source": [
    "sns.lineplot(x = k_values, y = scores, marker = 'o')\n",
    "plt.xlabel(\"K Values\")\n",
    "plt.ylabel(\"Accuracy Score\")"
   ]
  },
  {
   "cell_type": "markdown",
   "id": "f8a3dac9-9599-4ae6-91b5-d217db3eed00",
   "metadata": {},
   "source": [
    "# Advantages of KNN Algorithm:\n",
    "* It is `simple to implement.`\n",
    "* It is` robust to the noisy training data`\n",
    "* It can be `more effective if the training data is large.`\n",
    "# Disadvantages of KNN Algorithm:\n",
    "* `Always needs to determine the value of K which may be complex some time.`\n",
    "* The computation `cost is high` because of `calculating the distance between the data points for all the training samples.`"
   ]
  },
  {
   "cell_type": "markdown",
   "id": "04d0c887-4541-4781-be20-47d8e69de92a",
   "metadata": {},
   "source": [
    "# Exercise"
   ]
  },
  {
   "cell_type": "markdown",
   "id": "2c643419",
   "metadata": {},
   "source": [
    "Wine Dataset"
   ]
  },
  {
   "cell_type": "code",
   "execution_count": 1,
   "id": "334a03bf",
   "metadata": {},
   "outputs": [],
   "source": [
    "import pandas as pd\n",
    "from sklearn.model_selection import train_test_split\n",
    "from sklearn.preprocessing import StandardScaler\n",
    "from sklearn.neighbors import KNeighborsClassifier\n",
    "from sklearn.metrics import accuracy_score"
   ]
  },
  {
   "cell_type": "code",
   "execution_count": 4,
   "id": "6bfb0674",
   "metadata": {},
   "outputs": [],
   "source": [
    "import os\n",
    "os.getcwd()\n",
    "os.chdir(\"C:\\\\Users\\\\ELCOT\\\\Downloads\")"
   ]
  },
  {
   "cell_type": "code",
   "execution_count": 5,
   "id": "1a8fc56c",
   "metadata": {},
   "outputs": [],
   "source": [
    "df=pd.read_csv(r\"wine_data.csv\")"
   ]
  },
  {
   "cell_type": "code",
   "execution_count": 6,
   "id": "ed34e86b",
   "metadata": {
    "scrolled": true
   },
   "outputs": [
    {
     "data": {
      "text/html": [
       "<div>\n",
       "<style scoped>\n",
       "    .dataframe tbody tr th:only-of-type {\n",
       "        vertical-align: middle;\n",
       "    }\n",
       "\n",
       "    .dataframe tbody tr th {\n",
       "        vertical-align: top;\n",
       "    }\n",
       "\n",
       "    .dataframe thead th {\n",
       "        text-align: right;\n",
       "    }\n",
       "</style>\n",
       "<table border=\"1\" class=\"dataframe\">\n",
       "  <thead>\n",
       "    <tr style=\"text-align: right;\">\n",
       "      <th></th>\n",
       "      <th>customer_seg</th>\n",
       "      <th>Alcohol</th>\n",
       "      <th>Malic acid</th>\n",
       "      <th>Ash</th>\n",
       "      <th>Alcalinity of ash</th>\n",
       "      <th>Magnesium</th>\n",
       "      <th>Total phenols</th>\n",
       "      <th>Flavanoids</th>\n",
       "      <th>Nonflavanoid phenols</th>\n",
       "      <th>Proanthocyanins</th>\n",
       "      <th>Color intensity</th>\n",
       "      <th>Hue</th>\n",
       "      <th>OD280/OD315 of diluted wines</th>\n",
       "      <th>Proline</th>\n",
       "    </tr>\n",
       "  </thead>\n",
       "  <tbody>\n",
       "    <tr>\n",
       "      <th>0</th>\n",
       "      <td>1</td>\n",
       "      <td>14.23</td>\n",
       "      <td>1.71</td>\n",
       "      <td>2.43</td>\n",
       "      <td>15.6</td>\n",
       "      <td>127</td>\n",
       "      <td>2.80</td>\n",
       "      <td>3.06</td>\n",
       "      <td>0.28</td>\n",
       "      <td>2.29</td>\n",
       "      <td>5.64</td>\n",
       "      <td>1.04</td>\n",
       "      <td>3.92</td>\n",
       "      <td>1065</td>\n",
       "    </tr>\n",
       "    <tr>\n",
       "      <th>1</th>\n",
       "      <td>1</td>\n",
       "      <td>13.20</td>\n",
       "      <td>1.78</td>\n",
       "      <td>2.14</td>\n",
       "      <td>11.2</td>\n",
       "      <td>100</td>\n",
       "      <td>2.65</td>\n",
       "      <td>2.76</td>\n",
       "      <td>0.26</td>\n",
       "      <td>1.28</td>\n",
       "      <td>4.38</td>\n",
       "      <td>1.05</td>\n",
       "      <td>3.40</td>\n",
       "      <td>1050</td>\n",
       "    </tr>\n",
       "    <tr>\n",
       "      <th>2</th>\n",
       "      <td>1</td>\n",
       "      <td>13.16</td>\n",
       "      <td>2.36</td>\n",
       "      <td>2.67</td>\n",
       "      <td>18.6</td>\n",
       "      <td>101</td>\n",
       "      <td>2.80</td>\n",
       "      <td>3.24</td>\n",
       "      <td>0.30</td>\n",
       "      <td>2.81</td>\n",
       "      <td>5.68</td>\n",
       "      <td>1.03</td>\n",
       "      <td>3.17</td>\n",
       "      <td>1185</td>\n",
       "    </tr>\n",
       "    <tr>\n",
       "      <th>3</th>\n",
       "      <td>1</td>\n",
       "      <td>14.37</td>\n",
       "      <td>1.95</td>\n",
       "      <td>2.50</td>\n",
       "      <td>16.8</td>\n",
       "      <td>113</td>\n",
       "      <td>3.85</td>\n",
       "      <td>3.49</td>\n",
       "      <td>0.24</td>\n",
       "      <td>2.18</td>\n",
       "      <td>7.80</td>\n",
       "      <td>0.86</td>\n",
       "      <td>3.45</td>\n",
       "      <td>1480</td>\n",
       "    </tr>\n",
       "    <tr>\n",
       "      <th>4</th>\n",
       "      <td>1</td>\n",
       "      <td>13.24</td>\n",
       "      <td>2.59</td>\n",
       "      <td>2.87</td>\n",
       "      <td>21.0</td>\n",
       "      <td>118</td>\n",
       "      <td>2.80</td>\n",
       "      <td>2.69</td>\n",
       "      <td>0.39</td>\n",
       "      <td>1.82</td>\n",
       "      <td>4.32</td>\n",
       "      <td>1.04</td>\n",
       "      <td>2.93</td>\n",
       "      <td>735</td>\n",
       "    </tr>\n",
       "    <tr>\n",
       "      <th>...</th>\n",
       "      <td>...</td>\n",
       "      <td>...</td>\n",
       "      <td>...</td>\n",
       "      <td>...</td>\n",
       "      <td>...</td>\n",
       "      <td>...</td>\n",
       "      <td>...</td>\n",
       "      <td>...</td>\n",
       "      <td>...</td>\n",
       "      <td>...</td>\n",
       "      <td>...</td>\n",
       "      <td>...</td>\n",
       "      <td>...</td>\n",
       "      <td>...</td>\n",
       "    </tr>\n",
       "    <tr>\n",
       "      <th>173</th>\n",
       "      <td>3</td>\n",
       "      <td>13.71</td>\n",
       "      <td>5.65</td>\n",
       "      <td>2.45</td>\n",
       "      <td>20.5</td>\n",
       "      <td>95</td>\n",
       "      <td>1.68</td>\n",
       "      <td>0.61</td>\n",
       "      <td>0.52</td>\n",
       "      <td>1.06</td>\n",
       "      <td>7.70</td>\n",
       "      <td>0.64</td>\n",
       "      <td>1.74</td>\n",
       "      <td>740</td>\n",
       "    </tr>\n",
       "    <tr>\n",
       "      <th>174</th>\n",
       "      <td>3</td>\n",
       "      <td>13.40</td>\n",
       "      <td>3.91</td>\n",
       "      <td>2.48</td>\n",
       "      <td>23.0</td>\n",
       "      <td>102</td>\n",
       "      <td>1.80</td>\n",
       "      <td>0.75</td>\n",
       "      <td>0.43</td>\n",
       "      <td>1.41</td>\n",
       "      <td>7.30</td>\n",
       "      <td>0.70</td>\n",
       "      <td>1.56</td>\n",
       "      <td>750</td>\n",
       "    </tr>\n",
       "    <tr>\n",
       "      <th>175</th>\n",
       "      <td>3</td>\n",
       "      <td>13.27</td>\n",
       "      <td>4.28</td>\n",
       "      <td>2.26</td>\n",
       "      <td>20.0</td>\n",
       "      <td>120</td>\n",
       "      <td>1.59</td>\n",
       "      <td>0.69</td>\n",
       "      <td>0.43</td>\n",
       "      <td>1.35</td>\n",
       "      <td>10.20</td>\n",
       "      <td>0.59</td>\n",
       "      <td>1.56</td>\n",
       "      <td>835</td>\n",
       "    </tr>\n",
       "    <tr>\n",
       "      <th>176</th>\n",
       "      <td>3</td>\n",
       "      <td>13.17</td>\n",
       "      <td>2.59</td>\n",
       "      <td>2.37</td>\n",
       "      <td>20.0</td>\n",
       "      <td>120</td>\n",
       "      <td>1.65</td>\n",
       "      <td>0.68</td>\n",
       "      <td>0.53</td>\n",
       "      <td>1.46</td>\n",
       "      <td>9.30</td>\n",
       "      <td>0.60</td>\n",
       "      <td>1.62</td>\n",
       "      <td>840</td>\n",
       "    </tr>\n",
       "    <tr>\n",
       "      <th>177</th>\n",
       "      <td>3</td>\n",
       "      <td>14.13</td>\n",
       "      <td>4.10</td>\n",
       "      <td>2.74</td>\n",
       "      <td>24.5</td>\n",
       "      <td>96</td>\n",
       "      <td>2.05</td>\n",
       "      <td>0.76</td>\n",
       "      <td>0.56</td>\n",
       "      <td>1.35</td>\n",
       "      <td>9.20</td>\n",
       "      <td>0.61</td>\n",
       "      <td>1.60</td>\n",
       "      <td>560</td>\n",
       "    </tr>\n",
       "  </tbody>\n",
       "</table>\n",
       "<p>178 rows × 14 columns</p>\n",
       "</div>"
      ],
      "text/plain": [
       "     customer_seg  Alcohol  Malic acid   Ash   Alcalinity of ash   Magnesium  \\\n",
       "0               1    14.23        1.71  2.43                15.6         127   \n",
       "1               1    13.20        1.78  2.14                11.2         100   \n",
       "2               1    13.16        2.36  2.67                18.6         101   \n",
       "3               1    14.37        1.95  2.50                16.8         113   \n",
       "4               1    13.24        2.59  2.87                21.0         118   \n",
       "..            ...      ...         ...   ...                 ...         ...   \n",
       "173             3    13.71        5.65  2.45                20.5          95   \n",
       "174             3    13.40        3.91  2.48                23.0         102   \n",
       "175             3    13.27        4.28  2.26                20.0         120   \n",
       "176             3    13.17        2.59  2.37                20.0         120   \n",
       "177             3    14.13        4.10  2.74                24.5          96   \n",
       "\n",
       "     Total phenols   Flavanoids   Nonflavanoid phenols   Proanthocyanins  \\\n",
       "0             2.80         3.06                   0.28              2.29   \n",
       "1             2.65         2.76                   0.26              1.28   \n",
       "2             2.80         3.24                   0.30              2.81   \n",
       "3             3.85         3.49                   0.24              2.18   \n",
       "4             2.80         2.69                   0.39              1.82   \n",
       "..             ...          ...                    ...               ...   \n",
       "173           1.68         0.61                   0.52              1.06   \n",
       "174           1.80         0.75                   0.43              1.41   \n",
       "175           1.59         0.69                   0.43              1.35   \n",
       "176           1.65         0.68                   0.53              1.46   \n",
       "177           2.05         0.76                   0.56              1.35   \n",
       "\n",
       "      Color intensity   Hue   OD280/OD315 of diluted wines   Proline   \n",
       "0                5.64  1.04                           3.92       1065  \n",
       "1                4.38  1.05                           3.40       1050  \n",
       "2                5.68  1.03                           3.17       1185  \n",
       "3                7.80  0.86                           3.45       1480  \n",
       "4                4.32  1.04                           2.93        735  \n",
       "..                ...   ...                            ...        ...  \n",
       "173              7.70  0.64                           1.74        740  \n",
       "174              7.30  0.70                           1.56        750  \n",
       "175             10.20  0.59                           1.56        835  \n",
       "176              9.30  0.60                           1.62        840  \n",
       "177              9.20  0.61                           1.60        560  \n",
       "\n",
       "[178 rows x 14 columns]"
      ]
     },
     "execution_count": 6,
     "metadata": {},
     "output_type": "execute_result"
    }
   ],
   "source": [
    "df"
   ]
  },
  {
   "cell_type": "code",
   "execution_count": 8,
   "id": "f7bf5954",
   "metadata": {},
   "outputs": [
    {
     "data": {
      "text/plain": [
       "array([[14.23,  1.71,  2.43, ...,  5.64,  1.04,  3.92],\n",
       "       [13.2 ,  1.78,  2.14, ...,  4.38,  1.05,  3.4 ],\n",
       "       [13.16,  2.36,  2.67, ...,  5.68,  1.03,  3.17],\n",
       "       ...,\n",
       "       [13.27,  4.28,  2.26, ..., 10.2 ,  0.59,  1.56],\n",
       "       [13.17,  2.59,  2.37, ...,  9.3 ,  0.6 ,  1.62],\n",
       "       [14.13,  4.1 ,  2.74, ...,  9.2 ,  0.61,  1.6 ]])"
      ]
     },
     "execution_count": 8,
     "metadata": {},
     "output_type": "execute_result"
    }
   ],
   "source": [
    "x=df.iloc[:, 1:13].values\n",
    "x"
   ]
  },
  {
   "cell_type": "code",
   "execution_count": 9,
   "id": "e852f0e7",
   "metadata": {
    "scrolled": true
   },
   "outputs": [
    {
     "data": {
      "text/plain": [
       "array([1, 1, 1, 1, 1, 1, 1, 1, 1, 1, 1, 1, 1, 1, 1, 1, 1, 1, 1, 1, 1, 1,\n",
       "       1, 1, 1, 1, 1, 1, 1, 1, 1, 1, 1, 1, 1, 1, 1, 1, 1, 1, 1, 1, 1, 1,\n",
       "       1, 1, 1, 1, 1, 1, 1, 1, 1, 1, 1, 1, 1, 1, 1, 2, 2, 2, 2, 2, 2, 2,\n",
       "       2, 2, 2, 2, 2, 2, 2, 2, 2, 2, 2, 2, 2, 2, 2, 2, 2, 2, 2, 2, 2, 2,\n",
       "       2, 2, 2, 2, 2, 2, 2, 2, 2, 2, 2, 2, 2, 2, 2, 2, 2, 2, 2, 2, 2, 2,\n",
       "       2, 2, 2, 2, 2, 2, 2, 2, 2, 2, 2, 2, 2, 2, 2, 2, 2, 2, 2, 2, 3, 3,\n",
       "       3, 3, 3, 3, 3, 3, 3, 3, 3, 3, 3, 3, 3, 3, 3, 3, 3, 3, 3, 3, 3, 3,\n",
       "       3, 3, 3, 3, 3, 3, 3, 3, 3, 3, 3, 3, 3, 3, 3, 3, 3, 3, 3, 3, 3, 3,\n",
       "       3, 3], dtype=int64)"
      ]
     },
     "execution_count": 9,
     "metadata": {},
     "output_type": "execute_result"
    }
   ],
   "source": [
    "y=df.iloc[:, 0].values\n",
    "y"
   ]
  },
  {
   "cell_type": "code",
   "execution_count": 10,
   "id": "bc0e11c9",
   "metadata": {},
   "outputs": [
    {
     "data": {
      "text/plain": [
       "Index(['customer_seg', 'Alcohol', 'Malic acid', 'Ash', ' Alcalinity of ash',\n",
       "       ' Magnesium', 'Total phenols', ' Flavanoids', ' Nonflavanoid phenols',\n",
       "       ' Proanthocyanins', ' Color intensity', ' Hue',\n",
       "       ' OD280/OD315 of diluted wines', ' Proline '],\n",
       "      dtype='object')"
      ]
     },
     "execution_count": 10,
     "metadata": {},
     "output_type": "execute_result"
    }
   ],
   "source": [
    "df.columns"
   ]
  },
  {
   "cell_type": "code",
   "execution_count": 55,
   "id": "80fb2460",
   "metadata": {},
   "outputs": [],
   "source": [
    "x_train, x_test, y_train, y_test = train_test_split(x,\n",
    "y, test_size=0.2, random_state=42)"
   ]
  },
  {
   "cell_type": "code",
   "execution_count": 56,
   "id": "55a655ea",
   "metadata": {},
   "outputs": [],
   "source": [
    "scaler = StandardScaler()\n",
    "X_train = scaler.fit_transform(x_train)\n",
    "X_test = scaler.fit_transform(x_test)"
   ]
  },
  {
   "cell_type": "code",
   "execution_count": 65,
   "id": "438bc79a",
   "metadata": {},
   "outputs": [],
   "source": [
    "knn = KNeighborsClassifier(n_neighbors=5)"
   ]
  },
  {
   "cell_type": "code",
   "execution_count": 66,
   "id": "514e7ad7",
   "metadata": {},
   "outputs": [
    {
     "data": {
      "text/plain": [
       "KNeighborsClassifier()"
      ]
     },
     "execution_count": 66,
     "metadata": {},
     "output_type": "execute_result"
    }
   ],
   "source": [
    "knn.fit(x_train, y_train)"
   ]
  },
  {
   "cell_type": "code",
   "execution_count": 67,
   "id": "749f82a3",
   "metadata": {},
   "outputs": [
    {
     "data": {
      "text/plain": [
       "array([1, 1, 3, 1, 2, 1, 2, 3, 2, 3, 1, 3, 2, 3, 1, 2, 2, 2, 1, 2, 1, 2,\n",
       "       2, 3, 3, 3, 2, 1, 2, 1, 1, 2, 3, 1, 1, 1], dtype=int64)"
      ]
     },
     "execution_count": 67,
     "metadata": {},
     "output_type": "execute_result"
    }
   ],
   "source": [
    "y_pred = knn.predict(x_test)\n",
    "y_pred"
   ]
  },
  {
   "cell_type": "code",
   "execution_count": 68,
   "id": "b3ffb4bf",
   "metadata": {},
   "outputs": [
    {
     "name": "stdout",
     "output_type": "stream",
     "text": [
      "Accuracy: 91.67%\n",
      "0.9166666666666666\n"
     ]
    }
   ],
   "source": [
    "accuracy = accuracy_score(y_test, y_pred)\n",
    "print(\"Accuracy: {:.2f}%\".format(accuracy*100))\n",
    "print(accuracy)"
   ]
  },
  {
   "cell_type": "markdown",
   "id": "f7683a64",
   "metadata": {},
   "source": [
    "cross validation"
   ]
  },
  {
   "cell_type": "code",
   "execution_count": 29,
   "id": "2be600cb",
   "metadata": {},
   "outputs": [],
   "source": [
    "from sklearn.model_selection import cross_val_score\n",
    "import numpy as np\n",
    "import seaborn as sns\n",
    "import matplotlib.pyplot as plt"
   ]
  },
  {
   "cell_type": "code",
   "execution_count": 69,
   "id": "01739cf3",
   "metadata": {
    "scrolled": true
   },
   "outputs": [
    {
     "name": "stdout",
     "output_type": "stream",
     "text": [
      "[1, 2, 3, 4, 5, 6, 7, 8, 9, 10, 11, 12, 13, 14, 15, 16, 17, 18, 19, 20, 21, 22, 23, 24, 25, 26, 27, 28, 29, 30]\n"
     ]
    }
   ],
   "source": [
    "k_values = [i for i in range (1,31)]\n",
    "print(k_values)\n",
    "scores = []\n",
    "\n",
    "scaler = StandardScaler()\n",
    "x= scaler.fit_transform(x)\n",
    "\n",
    "for k in k_values:\n",
    "    knn = KNeighborsClassifier(n_neighbors=k)\n",
    "    score = cross_val_score(knn, x, y, cv=5)\n",
    "    scores.append(np.mean(score))"
   ]
  },
  {
   "cell_type": "code",
   "execution_count": 70,
   "id": "8a951028",
   "metadata": {},
   "outputs": [
    {
     "data": {
      "text/plain": [
       "Text(0, 0.5, 'Accuracy Score')"
      ]
     },
     "execution_count": 70,
     "metadata": {},
     "output_type": "execute_result"
    },
    {
     "data": {
      "image/png": "[encoded data removed]",
      "text/plain": [
       "<Figure size 432x288 with 1 Axes>"
      ]
     },
     "metadata": {
      "needs_background": "light"
     },
     "output_type": "display_data"
    }
   ],
   "source": [
    "sns.lineplot(x = k_values, y = scores, marker = 'o')\n",
    "plt.xlabel(\"K Values\")\n",
    "plt.ylabel(\"Accuracy Score\")"
   ]
  }
 ],
 "metadata": {
  "kernelspec": {
   "display_name": "Python 3 (ipykernel)",
   "language": "python",
   "name": "python3"
  },
  "language_info": {
   "codemirror_mode": {
    "name": "ipython",
    "version": 3
   },
   "file_extension": ".py",
   "mimetype": "text/x-python",
   "name": "python",
   "nbconvert_exporter": "python",
   "pygments_lexer": "ipython3",
   "version": "3.9.12"
  }
 },
 "nbformat": 4,
 "nbformat_minor": 5
}
