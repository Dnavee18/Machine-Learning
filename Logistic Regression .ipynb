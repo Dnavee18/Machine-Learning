{
 "cells": [
  {
   "cell_type": "markdown",
   "id": "6bfeb7d7-442a-4367-8654-18df82c9d430",
   "metadata": {},
   "source": [
    "# Logistic Regression in Machine Learning\n",
    "\n",
    "* Logistic regression is `one of the most popular Machine Learning algorithms`, which comes under the `Supervised Learning technique`.\n",
    "* It is used for predicting the `categorical dependent variable` using a given set of `independent variables`.\n",
    "* Logistic regression predicts the output of a categorical dependent variable. Therefore the `outcome` must be a `categorical or discrete value.\n",
    "* It can be either `Yes or No, 0 or 1, true or False`, etc. but instead of `giving the exact value as 0 and 1`, it gives the `probabilistic values which lie between 0 and 1.`\n",
    "* Logistic Regression is much `similar to the Linear Regression except that how they are used`.\n",
    "* `Linear Regression` is used for solving ``Regression problems``, where `Logistic regression` is used for solving the `classification problems`.\n",
    "* In Logistic regression, instead of fitting a regression line, `we fit an \"S\" shaped logistic function`, which predicts two `maximum values (0 or 1)`."
   ]
  },
  {
   "cell_type": "code",
   "execution_count": 6,
   "id": "56ecc3e2",
   "metadata": {},
   "outputs": [
    {
     "data": {
      "text/html": [
       "<img src=\"https://static.javatpoint.com/tutorial/machine-learning/images/logistic-regression-in-machine-learning.png\"/>"
      ],
      "text/plain": [
       "<IPython.core.display.Image object>"
      ]
     },
     "execution_count": 6,
     "metadata": {},
     "output_type": "execute_result"
    }
   ],
   "source": [
    "Image ( url =('https://static.javatpoint.com/tutorial/machine-learning/images/logistic-regression-in-machine-learning.png'))"
   ]
  },
  {
   "cell_type": "markdown",
   "id": "90c16810-83c8-4cf2-845a-b540c82de03a",
   "metadata": {},
   "source": [
    "# Logistic Function (Sigmoid Function):"
   ]
  },
  {
   "cell_type": "markdown",
   "id": "b1452061-a2fa-46ef-ae4e-e0466e03e7d6",
   "metadata": {},
   "source": [
    "## Sigmoid Function:"
   ]
  },
  {
   "cell_type": "code",
   "execution_count": 1,
   "id": "a22fd1a5",
   "metadata": {},
   "outputs": [],
   "source": [
    "from IPython.display import Image"
   ]
  },
  {
   "cell_type": "code",
   "execution_count": 4,
   "id": "e7d1f526",
   "metadata": {},
   "outputs": [
    {
     "data": {
      "text/html": [
       "<img src=\"https://images.datacamp.com/image/upload/v1660054820/eq2_2412d7f391.png\"/>"
      ],
      "text/plain": [
       "<IPython.core.display.Image object>"
      ]
     },
     "execution_count": 4,
     "metadata": {},
     "output_type": "execute_result"
    }
   ],
   "source": [
    "Image ( url =('https://images.datacamp.com/image/upload/v1660054820/eq2_2412d7f391.png'))"
   ]
  },
  {
   "cell_type": "code",
   "execution_count": 5,
   "id": "625e631a",
   "metadata": {},
   "outputs": [
    {
     "data": {
      "text/html": [
       "<img src=\"https://images.datacamp.com/image/upload/v1660054820/Line_graph_0672f6583d.png\"/>"
      ],
      "text/plain": [
       "<IPython.core.display.Image object>"
      ]
     },
     "execution_count": 5,
     "metadata": {},
     "output_type": "execute_result"
    }
   ],
   "source": [
    "Image ( url =('https://images.datacamp.com/image/upload/v1660054820/Line_graph_0672f6583d.png'))"
   ]
  },
  {
   "cell_type": "markdown",
   "id": "238088c5-0a6b-4811-8635-15a1958f60eb",
   "metadata": {},
   "source": [
    "# Linear Regression Equation:"
   ]
  },
  {
   "cell_type": "markdown",
   "id": "db81a5ad-aa36-4437-938e-94b82861fcaf",
   "metadata": {},
   "source": [
    "![](https://images.datacamp.com/image/upload/v1660054819/eq1_9754affcc3.png)"
   ]
  },
  {
   "cell_type": "raw",
   "id": "47a3f5f4-90ae-4bdb-be63-dd63a80e3039",
   "metadata": {},
   "source": [
    "Where, y is a dependent variable and x1, x2 ... and Xn are explanatory variables."
   ]
  },
  {
   "cell_type": "markdown",
   "id": "b6d69359-ce7c-468b-8919-a7b1229ec741",
   "metadata": {},
   "source": [
    "## Apply Sigmoid function on linear regression"
   ]
  },
  {
   "cell_type": "code",
   "execution_count": 7,
   "id": "78baff2e",
   "metadata": {},
   "outputs": [
    {
     "data": {
      "text/html": [
       "<img src=\"https://images.datacamp.com/image/upload/v1660054820/eq3_6d5f9a9c79.png\"/>"
      ],
      "text/plain": [
       "<IPython.core.display.Image object>"
      ]
     },
     "execution_count": 7,
     "metadata": {},
     "output_type": "execute_result"
    }
   ],
   "source": [
    "Image ( url =('https://images.datacamp.com/image/upload/v1660054820/eq3_6d5f9a9c79.png'))"
   ]
  },
  {
   "cell_type": "markdown",
   "id": "d4e466c0-9afa-44f1-bfe6-b2ba655b18b8",
   "metadata": {},
   "source": [
    "* The `sigmoid function` is a `mathematical function` used to map the `predicted values to probabilities.`\n",
    "* It maps any `real value into another value within a range of 0 and 1.`\n",
    "* The value of the `logistic regression` must be `between 0 and 1`, `which cannot go beyond this limit`, so it forms a `curve like the \"S\" form.`\n",
    "* The `S-form curve` is called the `Sigmoid function` or the `logistic function`.\n",
    "* In logistic regression, we use the `concept of the threshold value`, which defines the `probability of either 0 or 1`. Such as values `above the threshold value ends to 1`, and a value `below the threshold values tends to 0`.\n"
   ]
  },
  {
   "cell_type": "markdown",
   "id": "483831ed-b2c9-4c92-a3a7-0fe8934ae9e0",
   "metadata": {},
   "source": [
    "# Linear Regression Vs. Logistic Regression\n",
    "* `Linear regression gives you a continuous output`, but `logistic regression provides a constant output.`\n",
    "* An example of the `continuous output is house price and stock price.`\n",
    "* Example's of the discrete output is `predicting whether a patient has cancer or not`, predicting whether the customer will churn.\n",
    "* Linear regression is estimated using `Ordinary Least Squares (OLS)` while logistic regression is estimated using `Maximum Likelihood Estimation (MLE)` approach."
   ]
  },
  {
   "cell_type": "code",
   "execution_count": 8,
   "id": "db0b95ff",
   "metadata": {},
   "outputs": [
    {
     "data": {
      "text/html": [
       "<img src=\"https://images.datacamp.com/image/upload/v1660054820/Regression_charts_b9de7355cf.png\"/>"
      ],
      "text/plain": [
       "<IPython.core.display.Image object>"
      ]
     },
     "execution_count": 8,
     "metadata": {},
     "output_type": "execute_result"
    }
   ],
   "source": [
    "Image ( url =('https://images.datacamp.com/image/upload/v1660054820/Regression_charts_b9de7355cf.png'))"
   ]
  },
  {
   "cell_type": "markdown",
   "id": "1f380065-4f5d-41f4-90f5-7223821119f3",
   "metadata": {},
   "source": [
    "# Type of Logistic Regression:\n",
    "On the basis of the categories, Logistic Regression can be classified into three types:\n",
    "## Binomial: \n",
    "* In` binomial Logistic regression`, there can be only` two possible types` of the `dependent variables`, such as 0 or 1, Pass or Fail`, etc.\n",
    "\n",
    "## Multinomial: \n",
    "* In `multinomial Logistic regression`, there can be `3 or more possible unordered type`s of the dependent variable, such as `\"cat\", \"dogs\", or \"sheep\"`\n",
    "\n",
    "## Ordinal: \n",
    "* In `ordinal Logistic regression`, there can be `3 or more possible ordered types of dependent variables`, such as `\"low\", \"Medium\", or \"High\".`"
   ]
  },
  {
   "cell_type": "code",
   "execution_count": 1,
   "id": "b33c14aa-026a-455d-ae7f-b67936940322",
   "metadata": {},
   "outputs": [],
   "source": [
    "# importing libraries  \n",
    "import numpy as np\n",
    "from sklearn.model_selection import train_test_split\n",
    "from sklearn.linear_model import LogisticRegression\n",
    "from sklearn import datasets\n",
    "import matplotlib.pyplot as plt\n",
    "import seaborn as sns\n",
    "  \n",
    "#importing datasets  \n",
    "iris = datasets.load_iris() "
   ]
  },
  {
   "cell_type": "code",
   "execution_count": 2,
   "id": "56926167-11fe-47c4-a2cd-6359aa2b005d",
   "metadata": {},
   "outputs": [],
   "source": [
    "x=iris.data\n",
    "y=iris.target"
   ]
  },
  {
   "cell_type": "code",
   "execution_count": 3,
   "id": "b5ad584e-25aa-4a2d-9e31-758ee6586f26",
   "metadata": {},
   "outputs": [],
   "source": [
    "# Splitting the dataset into training and test set.  \n",
    "from sklearn.model_selection import train_test_split  \n",
    "x_train, x_test, y_train, y_test= train_test_split(x, y, test_size= 0.25, random_state=0)  "
   ]
  },
  {
   "cell_type": "code",
   "execution_count": 4,
   "id": "05918582-1d3b-4da7-9d21-7045aba7cd34",
   "metadata": {},
   "outputs": [],
   "source": [
    "#feature Scaling  \n",
    "from sklearn.preprocessing import StandardScaler    \n",
    "st_x= StandardScaler()    \n",
    "x_train= st_x.fit_transform(x_train)    \n",
    "x_test= st_x.transform(x_test)  "
   ]
  },
  {
   "cell_type": "code",
   "execution_count": 5,
   "id": "623156b7-b72e-4058-aa5a-493ad3fbefcc",
   "metadata": {},
   "outputs": [
    {
     "data": {
      "text/plain": [
       "LogisticRegression(random_state=0)"
      ]
     },
     "execution_count": 5,
     "metadata": {},
     "output_type": "execute_result"
    }
   ],
   "source": [
    "#Fitting Logistic Regression to the training set  \n",
    "from sklearn.linear_model import LogisticRegression  \n",
    "classifier= LogisticRegression(random_state=0)  \n",
    "classifier.fit(x_train, y_train) "
   ]
  },
  {
   "cell_type": "code",
   "execution_count": 6,
   "id": "87698a85-eec7-4de6-b8d1-ec580785be19",
   "metadata": {},
   "outputs": [
    {
     "data": {
      "text/plain": [
       "array([2, 1, 0, 2, 0, 2, 0, 1, 1, 1, 2, 1, 1, 1, 1, 0, 1, 1, 0, 0, 2, 1,\n",
       "       0, 0, 2, 0, 0, 1, 1, 0, 2, 1, 0, 2, 2, 1, 0, 2])"
      ]
     },
     "execution_count": 6,
     "metadata": {},
     "output_type": "execute_result"
    }
   ],
   "source": [
    "#Predicting the test set result  \n",
    "y_pred= classifier.predict(x_test)  \n",
    "y_pred"
   ]
  },
  {
   "cell_type": "code",
   "execution_count": 8,
   "id": "5404235a",
   "metadata": {},
   "outputs": [
    {
     "data": {
      "text/plain": [
       "array([2, 1, 0, 2, 0, 2, 0, 1, 1, 1, 2, 1, 1, 1, 1, 0, 1, 1, 0, 0, 2, 1,\n",
       "       0, 0, 2, 0, 0, 1, 1, 0, 2, 1, 0, 2, 2, 1, 0, 1])"
      ]
     },
     "execution_count": 8,
     "metadata": {},
     "output_type": "execute_result"
    }
   ],
   "source": [
    "y_test"
   ]
  },
  {
   "cell_type": "code",
   "execution_count": 9,
   "id": "0e0deaa6",
   "metadata": {},
   "outputs": [
    {
     "data": {
      "text/plain": [
       "0.9536585365853658"
      ]
     },
     "execution_count": 9,
     "metadata": {},
     "output_type": "execute_result"
    }
   ],
   "source": [
    "from sklearn.metrics import r2_score\n",
    "r2_score(y_test,y_pred)"
   ]
  },
  {
   "cell_type": "code",
   "execution_count": 13,
   "id": "ccbbd7d5-9131-469a-a2b4-1aea93a30b19",
   "metadata": {},
   "outputs": [
    {
     "data": {
      "text/plain": [
       "array([[13,  0,  0],\n",
       "       [ 0, 15,  1],\n",
       "       [ 0,  0,  9]], dtype=int64)"
      ]
     },
     "execution_count": 13,
     "metadata": {},
     "output_type": "execute_result"
    }
   ],
   "source": [
    "#Creating the Confusion matrix  \n",
    "from sklearn.metrics import confusion_matrix  \n",
    "cm=confusion_matrix(y_test,y_pred) \n",
    "cm"
   ]
  },
  {
   "cell_type": "code",
   "execution_count": 27,
   "id": "72efe596-5344-4f40-bec6-62e0d9bb152b",
   "metadata": {
    "scrolled": true
   },
   "outputs": [
    {
     "data": {
      "image/png": "[encoded data removed]",
      "text/plain": [
       "<Figure size 576x288 with 2 Axes>"
      ]
     },
     "metadata": {
      "needs_background": "light"
     },
     "output_type": "display_data"
    }
   ],
   "source": [
    "cm = confusion_matrix(y_test, y_pred)\n",
    "\n",
    "# Visualize confusion matrix\n",
    "plt.figure(figsize=(8, 4))\n",
    "sns.heatmap(cm, annot=True, cmap=\"Blues\", fmt=\"d\", cbar=True)\n",
    "plt.title(\"Confusion Matrix\")\n",
    "plt.xlabel(\"Predicted\")\n",
    "plt.ylabel(\"Actual\")\n",
    "plt.show()"
   ]
  },
  {
   "cell_type": "code",
   "execution_count": 17,
   "id": "16123323",
   "metadata": {},
   "outputs": [
    {
     "data": {
      "text/plain": [
       "<AxesSubplot:>"
      ]
     },
     "execution_count": 17,
     "metadata": {},
     "output_type": "execute_result"
    },
    {
     "data": {
      "image/png": "[encoded data removed]",
      "text/plain": [
       "<Figure size 432x288 with 2 Axes>"
      ]
     },
     "metadata": {
      "needs_background": "light"
     },
     "output_type": "display_data"
    }
   ],
   "source": [
    "sns.heatmap(cm,annot=True)"
   ]
  },
  {
   "cell_type": "markdown",
   "id": "78b5a91b-29d1-4711-bf09-247d81714b52",
   "metadata": {},
   "source": [
    "## Medical Diagnosis:\n",
    "\n",
    "### Problem: \n",
    "* Predicting whether a patient has a cold based on symptoms like coughing, sneezing, and fever.\n",
    "### Implementation: \n",
    "* Train a Logistic Regression model using a dataset where each row represents a patient and columns represent binary features indicating the presence or absence of symptoms. The target variable is whether the patient has a cold (1) or not (0).\n",
    "\n",
    "### Prediction: \n",
    "* Given a new patient's symptoms, the model predicts whether they have a cold.\n",
    "\n",
    "## Credit Scoring:\n",
    "\n",
    "### Problem: \n",
    "* Predicting whether a customer is likely to default on a loan.\n",
    "### Implementation: \n",
    "* Train a Logistic Regression model using a dataset containing features such as credit score, income, and employment status. The target variable is whether the customer defaulted on their loan (1) or not (0).\n",
    "### Prediction: \n",
    "* Given a new customer's financial information, the model predicts whether they are likely to default on a loan.\n",
    "\n",
    "## Marketing Analytics:\n",
    "\n",
    "### Problem: \n",
    "* Predicting whether a customer will purchase a product based on their age and income.\n",
    "### Implementation: \n",
    "* Train a Logistic Regression model using a dataset with features like customer age, income, and past purchase history. The target variable is whether the customer made a purchase (1) or not (0).\n",
    "### Prediction: \n",
    "* Given a new customer's demographic information, the model predicts whether they will make a purchase.\n",
    "## Sentiment Analysis:\n",
    "\n",
    "### Problem: \n",
    "* Predicting whether a movie review expresses positive sentiment.\n",
    "### Implementation: \n",
    "* Train a Logistic Regression model using a dataset of movie reviews labeled as positive or negative sentiment. Features can be extracted from the text using techniques like bag-of-words or word embeddings.\n",
    "### Prediction: \n",
    "* Given a new movie review, the model predicts whether it expresses positive sentiment.\n",
    "\n",
    "## Image Classification:\n",
    "\n",
    "### Problem: \n",
    "* Determining whether an image contains a flower based on its color and shape.\n",
    "### Implementation: \n",
    "* Train a Logistic Regression model using a dataset of images labeled as containing a flower (1) or not containing a flower (0). Features can be extracted from the images using techniques like color histograms or edge detection.\n",
    "### Prediction: \n",
    "* Given a new image, the model predicts whether it contains a flower."
   ]
  },
  {
   "cell_type": "markdown",
   "id": "f2c81895-d98a-41ad-be21-71cd4bf4f28d",
   "metadata": {},
   "source": [
    "## Advantages of Logistic Regression:\n",
    "* `Simple and easy to implement.`\n",
    "* `Provides probabilities for outcomes`.\n",
    "*` Can handle non-linear effects.`\n",
    "\n",
    "## Disadvantages of Logistic Regression:\n",
    "* Doesn't perform well with high-dimensional` data or when there are `many categorical variables.`\n",
    "* `Prone to overfitting` with a `large number of features.`"
   ]
  },
  {
   "cell_type": "code",
   "execution_count": 29,
   "id": "7c5a1990-2979-4955-a9b8-57d7ca90d672",
   "metadata": {},
   "outputs": [
    {
     "data": {
      "image/png": "[encoded data removed]",
      "text/plain": [
       "<Figure size 576x432 with 1 Axes>"
      ]
     },
     "metadata": {
      "needs_background": "light"
     },
     "output_type": "display_data"
    },
    {
     "name": "stdout",
     "output_type": "stream",
     "text": [
      "Probability of passing exam after 6.9 hours of study: 0.9544378174951871\n"
     ]
    }
   ],
   "source": [
    "import numpy as np\n",
    "import matplotlib.pyplot as plt\n",
    "from sklearn.linear_model import LogisticRegression\n",
    "\n",
    "# Sample data: (hours_studied, pass_exam)\n",
    "data = np.array([\n",
    "    [2.5, 0],\n",
    "    [5.1, 1],\n",
    "    [3.2, 0],\n",
    "    [8.5, 1],\n",
    "    [3.5, 0],\n",
    "    [1.5, 0],\n",
    "    [9.2, 1],\n",
    "    [5.5, 1],\n",
    "    [8.3, 1],\n",
    "    [2.7, 0]\n",
    "])\n",
    "\n",
    "# Separate features (hours studied) and target variable (pass or fail)\n",
    "X = data[:, 0].reshape(-1, 1)  # Features (hours studied)\n",
    "y = data[:, 1]  # Target variable (pass or fail)\n",
    "\n",
    "# Train a Logistic Regression model\n",
    "model = LogisticRegression()\n",
    "model.fit(X, y)\n",
    "\n",
    "# Plot the data points and decision boundary\n",
    "plt.figure(figsize=(8, 6))\n",
    "plt.scatter(X[y == 1], y[y == 1], color='blue', label='Passed')\n",
    "plt.scatter(X[y == 0], y[y == 0], color='red', label='Failed')\n",
    "plt.xlabel('Hours Studied')\n",
    "plt.ylabel('Pass (1) / Fail (0)')\n",
    "plt.title('Logistic Regression')\n",
    "plt.legend()\n",
    "\n",
    "# Plot the decision boundary\n",
    "x_values = np.linspace(0, 10, 100)\n",
    "y_values = model.predict_proba(x_values.reshape(-1, 1))[:, 1]  # Predict probabilities for passing\n",
    "plt.plot(x_values, y_values, color='green', label='Decision Boundary')\n",
    "plt.axhline(y=0.5, color='black', linestyle='--', linewidth=0.8)  # Threshold line\n",
    "plt.legend()\n",
    "plt.grid(True, linestyle='--', alpha=0.5)\n",
    "plt.show()\n",
    "#print(x_values)\n",
    "# Make predictions\n",
    "hours_studied = 6.9\n",
    "predicted_prob = model.predict_proba([[hours_studied]])[:, 1]\n",
    "print(f\"Probability of passing exam after {hours_studied} hours of study: {predicted_prob[0]}\")\n"
   ]
  },
  {
   "cell_type": "code",
   "execution_count": 44,
   "id": "94c37b86",
   "metadata": {},
   "outputs": [
    {
     "name": "stdout",
     "output_type": "stream",
     "text": [
      "predictions: [1. 0. 1.]\n",
      "y_test: [1. 0. 1.]\n",
      "Score: 1.0\n"
     ]
    },
    {
     "data": {
      "image/png": "[encoded data removed]",
      "text/plain": [
       "<Figure size 432x288 with 2 Axes>"
      ]
     },
     "metadata": {
      "needs_background": "light"
     },
     "output_type": "display_data"
    },
    {
     "data": {
      "image/png": "[encoded data removed]",
      "text/plain": [
       "<Figure size 576x432 with 1 Axes>"
      ]
     },
     "metadata": {
      "needs_background": "light"
     },
     "output_type": "display_data"
    },
    {
     "name": "stdout",
     "output_type": "stream",
     "text": [
      "Probability of passing exam after 4.5 hours of study: 0.5158124599679639\n"
     ]
    }
   ],
   "source": [
    "import numpy as np\n",
    "import matplotlib.pyplot as plt\n",
    "import seaborn as sns\n",
    "from sklearn.linear_model import LogisticRegression\n",
    "\n",
    "# Sample data: (hours_studied, pass_exam)\n",
    "data = np.array([\n",
    "    [2.5, 0],\n",
    "    [5.1, 1],\n",
    "    [3.2, 0],\n",
    "    [8.5, 1],\n",
    "    [3.5, 0],\n",
    "    [1.5, 0],\n",
    "    [9.2, 1],\n",
    "    [5.5, 1],\n",
    "    [8.3, 1],\n",
    "    [2.7, 0]\n",
    "])\n",
    "\n",
    "# Separate features (hours studied) and target variable (pass or fail)\n",
    "x = data[:, 0].reshape(-1, 1)  # Features (hours studied)\n",
    "y = data[:, 1]  # Target variable (pass or fail)\n",
    "\n",
    "from sklearn.model_selection import train_test_split\n",
    "X_train, X_test, y_train, y_test = train_test_split(X, y, test_size=0.2, random_state=42)\n",
    "x_train,x_test,y_train,y_test=train_test_split(x,y,random_state=43)\n",
    "\n",
    "# Train a Logistic Regression model\n",
    "model = LogisticRegression()\n",
    "model.fit(x_train,y_train)\n",
    "\n",
    "y_pred=model.predict(x_test)\n",
    "print(\"predictions:\",y_pred)\n",
    "print(\"y_test:\",y_test)\n",
    "\n",
    "from sklearn.metrics import accuracy_score\n",
    "score=accuracy_score(y_test,y_pred)\n",
    "print(\"Score:\",score)\n",
    "\n",
    "#Creating the Confusion matrix  \n",
    "from sklearn.metrics import confusion_matrix  \n",
    "cm=confusion_matrix(y_test,y_pred) \n",
    "cm\n",
    "\n",
    "sns.heatmap(cm,annot=True)\n",
    "\n",
    "# Plot the data points and decision boundary\n",
    "plt.figure(figsize=(8, 6))\n",
    "plt.scatter(X[y == 1], y[y == 1], color='blue', label='Passed')\n",
    "plt.scatter(X[y == 0], y[y == 0], color='red', label='Failed')\n",
    "plt.xlabel('Hours Studied')\n",
    "plt.ylabel('Pass (1) / Fail (0)')\n",
    "plt.title('Logistic Regression')\n",
    "plt.legend()\n",
    "\n",
    "# Plot the decision boundary\n",
    "x_values = np.linspace(0, 10, 100)\n",
    "y_values = model.predict_proba(x_values.reshape(-1, 1))[:, 1]  # Predict probabilities for passing\n",
    "plt.plot(x_values, y_values, color='green', label='Decision Boundary')\n",
    "plt.axhline(y=0.5, color='black', linestyle='--', linewidth=0.8)  # Threshold line\n",
    "plt.legend()\n",
    "plt.grid(True, linestyle='--', alpha=0.5)\n",
    "plt.show()\n",
    "#print(x_values)\n",
    "# Make predictions\n",
    "hours_studied = 4.5\n",
    "predicted_prob = model.predict_proba([[hours_studied]])[:, 1]\n",
    "print(f\"Probability of passing exam after {hours_studied} hours of study: {predicted_prob[0]}\")\n"
   ]
  },
  {
   "cell_type": "markdown",
   "id": "31a6d19d-0bd7-4216-9615-f537cdeaa1e2",
   "metadata": {},
   "source": [
    "## With Feature Scaling:"
   ]
  },
  {
   "cell_type": "code",
   "execution_count": 27,
   "id": "570d10b2-4780-4bba-b2a2-042901269e25",
   "metadata": {},
   "outputs": [
    {
     "name": "stdout",
     "output_type": "stream",
     "text": [
      "Accuracy score (with feature scaling): 0.9736842105263158\n"
     ]
    }
   ],
   "source": [
    "from sklearn.datasets import load_breast_cancer\n",
    "from sklearn.model_selection import train_test_split\n",
    "from sklearn.linear_model import LogisticRegression\n",
    "from sklearn.preprocessing import StandardScaler\n",
    "from sklearn.metrics import accuracy_score\n",
    "\n",
    "# Load the breast cancer dataset\n",
    "X, y = load_breast_cancer(return_X_y=True)\n",
    "\n",
    "# Split the dataset into training and testing sets\n",
    "X_train, X_test, y_train, y_test = train_test_split(X, y, test_size=0.2, random_state=42)\n",
    "\n",
    "# Scale the features using Standard scaling\n",
    "scaler = StandardScaler()\n",
    "X_train_scaled = scaler.fit_transform(X_train)\n",
    "X_test_scaled = scaler.transform(X_test)\n",
    "\n",
    "# Train a Logistic Regression model\n",
    "model = LogisticRegression()\n",
    "model.fit(X_train_scaled, y_train)\n",
    "\n",
    "# Make predictions on the test set\n",
    "y_pred = model.predict(X_test_scaled)\n",
    "\n",
    "# Calculate accuracy score\n",
    "accuracy = accuracy_score(y_test, y_pred)\n",
    "print(\"Accuracy score (with feature scaling):\", accuracy)\n"
   ]
  },
  {
   "cell_type": "code",
   "execution_count": 28,
   "id": "5be2a873-a29c-4fc8-ba09-4afd21323dcc",
   "metadata": {},
   "outputs": [
    {
     "name": "stdout",
     "output_type": "stream",
     "text": [
      "Accuracy score (without feature scaling): 0.9649122807017544\n"
     ]
    },
    {
     "name": "stderr",
     "output_type": "stream",
     "text": [
      "C:\\ProgramData\\Anaconda3\\lib\\site-packages\\sklearn\\linear_model\\_logistic.py:814: ConvergenceWarning: lbfgs failed to converge (status=1):\n",
      "STOP: TOTAL NO. of ITERATIONS REACHED LIMIT.\n",
      "\n",
      "Increase the number of iterations (max_iter) or scale the data as shown in:\n",
      "    https://scikit-learn.org/stable/modules/preprocessing.html\n",
      "Please also refer to the documentation for alternative solver options:\n",
      "    https://scikit-learn.org/stable/modules/linear_model.html#logistic-regression\n",
      "  n_iter_i = _check_optimize_result(\n"
     ]
    }
   ],
   "source": [
    "from sklearn.datasets import load_breast_cancer\n",
    "from sklearn.model_selection import train_test_split\n",
    "from sklearn.linear_model import LogisticRegression\n",
    "from sklearn.metrics import accuracy_score\n",
    "\n",
    "# Load the breast cancer dataset\n",
    "X, y = load_breast_cancer(return_X_y=True)\n",
    "\n",
    "# Split the dataset into training and testing sets\n",
    "X_train, X_test, y_train, y_test = train_test_split(X, y, test_size=0.2, random_state=42)\n",
    "\n",
    "# Train a Logistic Regression model\n",
    "model = LogisticRegression()\n",
    "model.fit(X_train, y_train)\n",
    "\n",
    "# Make predictions on the test set\n",
    "y_pred = model.predict(X_test)\n",
    "\n",
    "# Calculate accuracy score\n",
    "accuracy = accuracy_score(y_test, y_pred)\n",
    "print(\"Accuracy score (without feature scaling):\", accuracy)\n"
   ]
  },
  {
   "cell_type": "code",
   "execution_count": null,
   "id": "abaf5b8f",
   "metadata": {},
   "outputs": [],
   "source": []
  }
 ],
 "metadata": {
  "kernelspec": {
   "display_name": "Python 3 (ipykernel)",
   "language": "python",
   "name": "python3"
  },
  "language_info": {
   "codemirror_mode": {
    "name": "ipython",
    "version": 3
   },
   "file_extension": ".py",
   "mimetype": "text/x-python",
   "name": "python",
   "nbconvert_exporter": "python",
   "pygments_lexer": "ipython3",
   "version": "3.9.12"
  }
 },
 "nbformat": 4,
 "nbformat_minor": 5
}
